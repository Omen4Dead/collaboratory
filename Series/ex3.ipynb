{
 "cells": [
  {
   "cell_type": "code",
   "execution_count": 1,
   "id": "df8aed45",
   "metadata": {},
   "outputs": [],
   "source": [
    "import pandas as pd"
   ]
  },
  {
   "cell_type": "code",
   "execution_count": 2,
   "id": "282e24d7",
   "metadata": {},
   "outputs": [
    {
     "data": {
      "text/plain": [
       "Dnepr     1000000.0\n",
       "Kiev      3000000.0\n",
       "Paris     2300000.0\n",
       "Berlin    3800000.0\n",
       "Milan           NaN\n",
       "dtype: float64"
      ]
     },
     "execution_count": 2,
     "metadata": {},
     "output_type": "execute_result"
    }
   ],
   "source": [
    "cities = pd.Series(\n",
    "    {'Dnepr': 1000000, 'Kiev': 3000000, 'Paris': 2300000, 'Berlin': 3800000},\n",
    "    index=['Dnepr', 'Kiev', 'Paris', 'Berlin', 'Milan']\n",
    ")\n",
    "cities"
   ]
  },
  {
   "cell_type": "code",
   "execution_count": 3,
   "id": "a7c29a23",
   "metadata": {},
   "outputs": [
    {
     "data": {
      "text/plain": [
       "(5,)"
      ]
     },
     "execution_count": 3,
     "metadata": {},
     "output_type": "execute_result"
    }
   ],
   "source": [
    "# (кол-во строк, кол-во столбцов) = размерность 'матрицы'\n",
    "cities.shape"
   ]
  },
  {
   "cell_type": "code",
   "execution_count": 4,
   "id": "7f672008",
   "metadata": {},
   "outputs": [
    {
     "data": {
      "text/plain": [
       "5"
      ]
     },
     "execution_count": 4,
     "metadata": {},
     "output_type": "execute_result"
    }
   ],
   "source": [
    "# кол-во элементов в серии всего\n",
    "cities.size"
   ]
  },
  {
   "cell_type": "code",
   "execution_count": 5,
   "id": "cb8bba91",
   "metadata": {},
   "outputs": [
    {
     "data": {
      "text/plain": [
       "0    1\n",
       "1    2\n",
       "2    3\n",
       "3    4\n",
       "4    5\n",
       "5    6\n",
       "dtype: int64"
      ]
     },
     "execution_count": 5,
     "metadata": {},
     "output_type": "execute_result"
    }
   ],
   "source": [
    "ds1 = pd.Series( [1, 2, 3, 4, 5, 6] )\n",
    "ds1"
   ]
  },
  {
   "cell_type": "code",
   "execution_count": 6,
   "id": "cfa1324e",
   "metadata": {},
   "outputs": [
    {
     "data": {
      "text/plain": [
       "3"
      ]
     },
     "execution_count": 6,
     "metadata": {},
     "output_type": "execute_result"
    }
   ],
   "source": [
    "ds1.iat[2]"
   ]
  },
  {
   "cell_type": "code",
   "execution_count": 7,
   "id": "b24dd681",
   "metadata": {},
   "outputs": [
    {
     "data": {
      "text/plain": [
       "3"
      ]
     },
     "execution_count": 7,
     "metadata": {},
     "output_type": "execute_result"
    }
   ],
   "source": [
    "ds1.iloc[2]"
   ]
  },
  {
   "cell_type": "code",
   "execution_count": 8,
   "id": "8742066e",
   "metadata": {},
   "outputs": [
    {
     "data": {
      "text/plain": [
       "3800000.0"
      ]
     },
     "execution_count": 8,
     "metadata": {},
     "output_type": "execute_result"
    }
   ],
   "source": [
    "cities.loc['Berlin']"
   ]
  },
  {
   "cell_type": "markdown",
   "id": "caa2de13",
   "metadata": {},
   "source": [
    "### Агрегация"
   ]
  },
  {
   "cell_type": "code",
   "execution_count": 9,
   "id": "fa6eccb5",
   "metadata": {},
   "outputs": [
    {
     "data": {
      "text/plain": [
       "min      1000000.0\n",
       "max      3800000.0\n",
       "mean     2525000.0\n",
       "sum     10100000.0\n",
       "dtype: float64"
      ]
     },
     "execution_count": 9,
     "metadata": {},
     "output_type": "execute_result"
    }
   ],
   "source": [
    "cities.agg(['min', 'max', 'mean', 'sum'])"
   ]
  },
  {
   "cell_type": "markdown",
   "id": "196a5f37",
   "metadata": {},
   "source": [
    "### Apply"
   ]
  },
  {
   "cell_type": "code",
   "execution_count": 10,
   "id": "f7086905",
   "metadata": {},
   "outputs": [
    {
     "data": {
      "text/plain": [
       "0    11\n",
       "1    22\n",
       "2    33\n",
       "3    44\n",
       "4    55\n",
       "5    66\n",
       "6    77\n",
       "7    99\n",
       "dtype: int64"
      ]
     },
     "execution_count": 10,
     "metadata": {},
     "output_type": "execute_result"
    }
   ],
   "source": [
    "ds = pd.Series([11,22,33,44,55,66,77,99])\n",
    "ds"
   ]
  },
  {
   "cell_type": "code",
   "execution_count": 11,
   "id": "89541e00",
   "metadata": {},
   "outputs": [],
   "source": [
    "def test(x):\n",
    "    if x % 2 == 0:\n",
    "        return x + 1\n",
    "    else:\n",
    "        return x"
   ]
  },
  {
   "cell_type": "code",
   "execution_count": 12,
   "id": "bb15f0a2",
   "metadata": {},
   "outputs": [
    {
     "data": {
      "text/plain": [
       "0    11\n",
       "1    23\n",
       "2    33\n",
       "3    45\n",
       "4    55\n",
       "5    67\n",
       "6    77\n",
       "7    99\n",
       "dtype: int64"
      ]
     },
     "execution_count": 12,
     "metadata": {},
     "output_type": "execute_result"
    }
   ],
   "source": [
    "ds.apply(test)"
   ]
  },
  {
   "cell_type": "code",
   "execution_count": 13,
   "id": "3305d3fe",
   "metadata": {},
   "outputs": [
    {
     "data": {
      "text/plain": [
       "0    11\n",
       "1    23\n",
       "2    33\n",
       "3    45\n",
       "4    55\n",
       "5    67\n",
       "6    77\n",
       "7    99\n",
       "dtype: int64"
      ]
     },
     "execution_count": 13,
     "metadata": {},
     "output_type": "execute_result"
    }
   ],
   "source": [
    "ds.apply(lambda x: x + 1 if x % 2 == 0 else x)"
   ]
  },
  {
   "cell_type": "markdown",
   "id": "65ba1368",
   "metadata": {},
   "source": [
    "# HW"
   ]
  },
  {
   "cell_type": "code",
   "execution_count": 14,
   "id": "7b60afbd",
   "metadata": {},
   "outputs": [
    {
     "data": {
      "text/plain": [
       "Dnepr     1000000\n",
       "Kiev      3000000\n",
       "Paris     2300000\n",
       "Berlin    3800000\n",
       "dtype: int64"
      ]
     },
     "execution_count": 14,
     "metadata": {},
     "output_type": "execute_result"
    }
   ],
   "source": [
    "cities1 = pd.Series(\n",
    "    {'Dnepr': 1000000, 'Kiev': 3000000, 'Paris': 2300000, 'Berlin': 3800000}\n",
    ")\n",
    "cities1"
   ]
  },
  {
   "cell_type": "code",
   "execution_count": 15,
   "id": "2d181739",
   "metadata": {},
   "outputs": [
    {
     "data": {
      "text/plain": [
       "0     Dnepr\n",
       "1      Kiev\n",
       "2     Paris\n",
       "3    Berlin\n",
       "4     Milan\n",
       "dtype: object"
      ]
     },
     "execution_count": 15,
     "metadata": {},
     "output_type": "execute_result"
    }
   ],
   "source": [
    "cities2 = pd.Series(cities.index)\n",
    "cities2"
   ]
  },
  {
   "cell_type": "code",
   "execution_count": 17,
   "id": "898554aa",
   "metadata": {},
   "outputs": [
    {
     "data": {
      "text/plain": [
       "0     Dnepr!!!\n",
       "1      Kiev!!!\n",
       "2        Paris\n",
       "3    Berlin!!!\n",
       "4        Milan\n",
       "dtype: object"
      ]
     },
     "execution_count": 17,
     "metadata": {},
     "output_type": "execute_result"
    }
   ],
   "source": [
    "cities2.apply(lambda x: x + '!!!' if 'e' in x else x)"
   ]
  },
  {
   "cell_type": "code",
   "execution_count": 20,
   "id": "185cee12",
   "metadata": {},
   "outputs": [],
   "source": [
    "def test2(x):\n",
    "    if 'e' in x:\n",
    "        return '-'.join(x)\n",
    "    else:\n",
    "        return x"
   ]
  },
  {
   "cell_type": "code",
   "execution_count": 21,
   "id": "9e768e05",
   "metadata": {},
   "outputs": [
    {
     "data": {
      "text/plain": [
       "0      D-n-e-p-r\n",
       "1        K-i-e-v\n",
       "2          Paris\n",
       "3    B-e-r-l-i-n\n",
       "4          Milan\n",
       "dtype: object"
      ]
     },
     "execution_count": 21,
     "metadata": {},
     "output_type": "execute_result"
    }
   ],
   "source": [
    "cities2.apply(test2)"
   ]
  },
  {
   "cell_type": "code",
   "execution_count": 22,
   "id": "8de0438e",
   "metadata": {},
   "outputs": [
    {
     "data": {
      "text/plain": [
       "0     Dnepr\n",
       "1      Kiev\n",
       "3    Berlin\n",
       "dtype: object"
      ]
     },
     "execution_count": 22,
     "metadata": {},
     "output_type": "execute_result"
    }
   ],
   "source": [
    "cities2[ cities2.str.contains('e') ]"
   ]
  },
  {
   "cell_type": "code",
   "execution_count": null,
   "id": "fdeec5d5",
   "metadata": {},
   "outputs": [],
   "source": []
  }
 ],
 "metadata": {
  "kernelspec": {
   "display_name": "Python 3 (ipykernel)",
   "language": "python",
   "name": "python3"
  },
  "language_info": {
   "codemirror_mode": {
    "name": "ipython",
    "version": 3
   },
   "file_extension": ".py",
   "mimetype": "text/x-python",
   "name": "python",
   "nbconvert_exporter": "python",
   "pygments_lexer": "ipython3",
   "version": "3.10.2"
  }
 },
 "nbformat": 4,
 "nbformat_minor": 5
}
